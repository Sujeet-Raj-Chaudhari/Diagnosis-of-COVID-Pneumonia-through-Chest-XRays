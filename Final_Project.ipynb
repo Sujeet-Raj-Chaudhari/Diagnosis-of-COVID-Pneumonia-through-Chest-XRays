{
 "cells": [
  {
   "cell_type": "code",
   "execution_count": 1,
   "id": "0ba7bbda",
   "metadata": {},
   "outputs": [],
   "source": [
    "import tensorflow as tf \n",
    "from tensorflow.keras.optimizers import Adam\n",
    "\n",
    "\n",
    "import numpy as np\n",
    "import pandas as pd\n",
    "import matplotlib.pyplot as plt\n",
    "import cv2\n",
    "import pickle\n",
    "import os\n",
    "\n",
    "import seaborn as sns"
   ]
  },
  {
   "cell_type": "code",
   "execution_count": 2,
   "id": "b95a1cf9",
   "metadata": {},
   "outputs": [],
   "source": [
    "from tensorflow.keras.applications import ResNet50V2, DenseNet201, InceptionV3, EfficientNetB0\n",
    "from tensorflow.keras.callbacks import ReduceLROnPlateau, EarlyStopping\n",
    "from tensorflow.keras.layers import  Dense, GlobalAveragePooling2D\n",
    "from tensorflow.keras.models import Model\n",
    "from tensorflow.keras.losses import SparseCategoricalCrossentropy\n",
    "from keras.preprocessing.image import ImageDataGenerator\n",
    "\n",
    "import pickle"
   ]
  },
  {
   "cell_type": "code",
   "execution_count": 3,
   "id": "4a0b56d7",
   "metadata": {},
   "outputs": [],
   "source": [
    "x_train = np.load('Created_NPY/train/Btrain_images.npy')\n",
    "y_train = np.load('Created_NPY/train/Btrain_labels.npy')\n",
    "\n",
    "x_val = np.load('Created_NPY/val/val_images.npy')\n",
    "y_val = np.load('Created_NPY/val/val_labels.npy')\n",
    "\n",
    "x_test = np.load('Created_NPY/test/Btest_images.npy')\n",
    "y_test = np.load('Created_NPY/test/Btest_labels.npy')"
   ]
  },
  {
   "cell_type": "code",
   "execution_count": 4,
   "id": "ce84653c",
   "metadata": {},
   "outputs": [],
   "source": [
    "classes = [\"COVID\", \"NORMAL\", \"PNEUMONIA\"]\n",
    "\n",
    "image_size = 224\n",
    "\n",
    "path = 'New_Model/'"
   ]
  },
  {
   "cell_type": "code",
   "execution_count": 5,
   "id": "f64a328c",
   "metadata": {},
   "outputs": [
    {
     "name": "stdout",
     "output_type": "stream",
     "text": [
      "(2111, 224, 224, 3)\n",
      "(304, 224, 224, 3)\n",
      "(603, 224, 224, 3)\n"
     ]
    }
   ],
   "source": [
    "print(x_train.shape)\n",
    "print(x_test.shape)\n",
    "print(x_val.shape)"
   ]
  },
  {
   "cell_type": "code",
   "execution_count": 8,
   "id": "911f793e",
   "metadata": {},
   "outputs": [],
   "source": [
    "def train_model(path, train_images=None, train_labels = None, \n",
    "                test_images = None, test_labels = None, \n",
    "                model_name = None, epochs =30,\n",
    "                input_shape = (224,224,3), classes=3, batch_size = 8, \n",
    "                classifier_activation='softmax',\n",
    "                callbacks = None):\n",
    "\n",
    "    base_model = None\n",
    "\n",
    "    if model_name == 'resnet50v2':\n",
    "        base_model = ResNet50V2(weights = None, include_top = False, input_shape = input_shape)\n",
    "                \n",
    "    if model_name == 'densenet201':        \n",
    "        base_model = DenseNet201(weights = None, include_top = False, input_shape = input_shape)\n",
    "          \n",
    "    if model_name == 'inceptionv3':        \n",
    "        base_model = InceptionV3(weights = None, include_top = False, input_shape = input_shape)\n",
    "        \n",
    "    if model_name == 'efficientnetb0':        \n",
    "        base_model = EfficientNetB0(weights = None, include_top = False, input_shape = input_shape)\n",
    "        \n",
    "\n",
    "    x = base_model.output         \n",
    "    x = tf.keras.layers.GlobalAveragePooling2D()(x)\n",
    "    output = tf.keras.layers.Dense(classes, activation=classifier_activation)(x)\n",
    "\n",
    "    model = Model(inputs = base_model.input, outputs = output)\n",
    "\n",
    "    model.compile(optimizer = 'adam',\n",
    "                  loss = tf.keras.losses.SparseCategoricalCrossentropy(from_logits=False),\n",
    "                  metrics = ['accuracy'])\n",
    "        \n",
    "    results = model.fit(train_images, train_labels, epochs = epochs, steps_per_epoch = 100,\n",
    "                        validation_data = (test_images, test_labels), \n",
    "                        batch_size=batch_size, \n",
    "                        callbacks = callbacks\n",
    "                        )\n",
    "    \n",
    "    losses = pd.DataFrame(model.history.history)\n",
    "    losses[['loss','val_loss']].plot()\n",
    "    \n",
    "    losses[['accuracy', 'val_accuracy']].plot()\n",
    "    \n",
    "    \n",
    "    \n",
    "    save_model = path + model_name + '.h5'\n",
    "    model.save(save_model)\n",
    "    \n",
    "    return results    \n"
   ]
  },
  {
   "cell_type": "code",
   "execution_count": 9,
   "id": "34c194b4",
   "metadata": {
    "scrolled": true
   },
   "outputs": [],
   "source": [
    "early_stop = EarlyStopping(monitor='val_loss', patience=5, verbose=0, \n",
    "                           mode='min', restore_best_weights = True)\n",
    "\n",
    "learning_rate_reduction = ReduceLROnPlateau(monitor = 'val_loss', \n",
    "                     patience = 2,\n",
    "                     verbose=1,\n",
    "                     factor=0.3,\n",
    "                     min_lr =0.000001\n",
    "                     )\n",
    "\n",
    "callbacks = [early_stop, learning_rate_reduction]\n"
   ]
  },
  {
   "cell_type": "code",
   "execution_count": 22,
   "id": "3a27568e",
   "metadata": {},
   "outputs": [
    {
     "name": "stdout",
     "output_type": "stream",
     "text": [
      "Epoch 1/30\n",
      "100/100 [==============================] - 246s 2s/step - loss: 0.9150 - accuracy: 0.6888 - val_loss: 3.3554 - val_accuracy: 0.4461 - lr: 0.0010\n",
      "Epoch 2/30\n",
      "100/100 [==============================] - 227s 2s/step - loss: 0.5308 - accuracy: 0.8025 - val_loss: 2.4320 - val_accuracy: 0.4461 - lr: 0.0010\n",
      "Epoch 3/30\n",
      "100/100 [==============================] - 226s 2s/step - loss: 0.5624 - accuracy: 0.7760 - val_loss: 3.0782 - val_accuracy: 0.3466 - lr: 0.0010\n",
      "Epoch 4/30\n",
      "100/100 [==============================] - ETA: 0s - loss: 0.5107 - accuracy: 0.8200\n",
      "Epoch 4: ReduceLROnPlateau reducing learning rate to 0.0003000000142492354.\n",
      "100/100 [==============================] - 225s 2s/step - loss: 0.5107 - accuracy: 0.8200 - val_loss: 2.8106 - val_accuracy: 0.5174 - lr: 0.0010\n",
      "Epoch 5/30\n",
      "100/100 [==============================] - 227s 2s/step - loss: 0.3332 - accuracy: 0.8775 - val_loss: 1.8260 - val_accuracy: 0.5506 - lr: 3.0000e-04\n",
      "Epoch 6/30\n",
      "100/100 [==============================] - 227s 2s/step - loss: 0.2975 - accuracy: 0.8924 - val_loss: 0.2498 - val_accuracy: 0.9221 - lr: 3.0000e-04\n",
      "Epoch 7/30\n",
      "100/100 [==============================] - 226s 2s/step - loss: 0.2897 - accuracy: 0.8913 - val_loss: 0.1799 - val_accuracy: 0.9337 - lr: 3.0000e-04\n",
      "Epoch 8/30\n",
      "100/100 [==============================] - 238s 2s/step - loss: 0.2694 - accuracy: 0.8961 - val_loss: 0.2315 - val_accuracy: 0.9287 - lr: 3.0000e-04\n",
      "Epoch 9/30\n",
      "100/100 [==============================] - ETA: 0s - loss: 0.2645 - accuracy: 0.9175\n",
      "Epoch 9: ReduceLROnPlateau reducing learning rate to 9.000000427477062e-05.\n",
      "100/100 [==============================] - 232s 2s/step - loss: 0.2645 - accuracy: 0.9175 - val_loss: 0.2035 - val_accuracy: 0.9221 - lr: 3.0000e-04\n",
      "Epoch 10/30\n",
      "100/100 [==============================] - 231s 2s/step - loss: 0.2226 - accuracy: 0.9237 - val_loss: 0.1815 - val_accuracy: 0.9270 - lr: 9.0000e-05\n",
      "Epoch 11/30\n",
      "100/100 [==============================] - 229s 2s/step - loss: 0.1922 - accuracy: 0.9362 - val_loss: 0.1746 - val_accuracy: 0.9453 - lr: 9.0000e-05\n",
      "Epoch 12/30\n",
      "100/100 [==============================] - 229s 2s/step - loss: 0.1411 - accuracy: 0.9613 - val_loss: 0.1711 - val_accuracy: 0.9453 - lr: 9.0000e-05\n",
      "Epoch 13/30\n",
      "100/100 [==============================] - 229s 2s/step - loss: 0.2363 - accuracy: 0.9250 - val_loss: 0.1541 - val_accuracy: 0.9569 - lr: 9.0000e-05\n",
      "Epoch 14/30\n",
      "100/100 [==============================] - 225s 2s/step - loss: 0.1759 - accuracy: 0.9449 - val_loss: 0.1542 - val_accuracy: 0.9519 - lr: 9.0000e-05\n",
      "Epoch 15/30\n",
      "100/100 [==============================] - ETA: 0s - loss: 0.1380 - accuracy: 0.9513\n",
      "Epoch 15: ReduceLROnPlateau reducing learning rate to 2.700000040931627e-05.\n",
      "100/100 [==============================] - 226s 2s/step - loss: 0.1380 - accuracy: 0.9513 - val_loss: 0.1589 - val_accuracy: 0.9353 - lr: 9.0000e-05\n",
      "Epoch 16/30\n",
      "100/100 [==============================] - 938s 9s/step - loss: 0.1714 - accuracy: 0.9424 - val_loss: 0.1334 - val_accuracy: 0.9635 - lr: 2.7000e-05\n",
      "Epoch 17/30\n",
      "100/100 [==============================] - 254s 3s/step - loss: 0.0904 - accuracy: 0.9712 - val_loss: 0.1214 - val_accuracy: 0.9635 - lr: 2.7000e-05\n",
      "Epoch 18/30\n",
      "100/100 [==============================] - 249s 2s/step - loss: 0.1291 - accuracy: 0.9550 - val_loss: 0.1313 - val_accuracy: 0.9519 - lr: 2.7000e-05\n",
      "Epoch 19/30\n",
      "100/100 [==============================] - 235s 2s/step - loss: 0.0969 - accuracy: 0.9687 - val_loss: 0.1206 - val_accuracy: 0.9602 - lr: 2.7000e-05\n",
      "Epoch 20/30\n",
      "100/100 [==============================] - 252s 3s/step - loss: 0.0964 - accuracy: 0.9675 - val_loss: 0.1159 - val_accuracy: 0.9585 - lr: 2.7000e-05\n",
      "Epoch 21/30\n",
      "100/100 [==============================] - 250s 3s/step - loss: 0.1036 - accuracy: 0.9625 - val_loss: 0.1158 - val_accuracy: 0.9635 - lr: 2.7000e-05\n",
      "Epoch 22/30\n",
      "100/100 [==============================] - 248s 2s/step - loss: 0.0958 - accuracy: 0.9675 - val_loss: 0.1052 - val_accuracy: 0.9619 - lr: 2.7000e-05\n",
      "Epoch 23/30\n",
      "100/100 [==============================] - 251s 3s/step - loss: 0.1254 - accuracy: 0.9625 - val_loss: 0.1124 - val_accuracy: 0.9585 - lr: 2.7000e-05\n",
      "Epoch 24/30\n",
      "100/100 [==============================] - ETA: 0s - loss: 0.0639 - accuracy: 0.9787\n",
      "Epoch 24: ReduceLROnPlateau reducing learning rate to 8.100000013655517e-06.\n",
      "100/100 [==============================] - 236s 2s/step - loss: 0.0639 - accuracy: 0.9787 - val_loss: 0.1139 - val_accuracy: 0.9619 - lr: 2.7000e-05\n",
      "Epoch 25/30\n",
      "100/100 [==============================] - 235s 2s/step - loss: 0.0756 - accuracy: 0.9787 - val_loss: 0.1080 - val_accuracy: 0.9652 - lr: 8.1000e-06\n",
      "Epoch 26/30\n",
      "100/100 [==============================] - ETA: 0s - loss: 0.0879 - accuracy: 0.9775\n",
      "Epoch 26: ReduceLROnPlateau reducing learning rate to 2.429999949526973e-06.\n",
      "100/100 [==============================] - 229s 2s/step - loss: 0.0879 - accuracy: 0.9775 - val_loss: 0.1071 - val_accuracy: 0.9602 - lr: 8.1000e-06\n",
      "Epoch 27/30\n",
      "100/100 [==============================] - 237s 2s/step - loss: 0.0647 - accuracy: 0.9762 - val_loss: 0.1039 - val_accuracy: 0.9619 - lr: 2.4300e-06\n",
      "Epoch 28/30\n",
      "100/100 [==============================] - 236s 2s/step - loss: 0.0458 - accuracy: 0.9862 - val_loss: 0.1019 - val_accuracy: 0.9652 - lr: 2.4300e-06\n",
      "Epoch 29/30\n",
      "100/100 [==============================] - 236s 2s/step - loss: 0.0615 - accuracy: 0.9850 - val_loss: 0.1098 - val_accuracy: 0.9619 - lr: 2.4300e-06\n",
      "Epoch 30/30\n",
      "100/100 [==============================] - ETA: 0s - loss: 0.0673 - accuracy: 0.9812\n",
      "Epoch 30: ReduceLROnPlateau reducing learning rate to 1e-06.\n",
      "100/100 [==============================] - 228s 2s/step - loss: 0.0673 - accuracy: 0.9812 - val_loss: 0.1138 - val_accuracy: 0.9602 - lr: 2.4300e-06\n"
     ]
    },
    {
     "ename": "NameError",
     "evalue": "name 'lossese' is not defined",
     "output_type": "error",
     "traceback": [
      "\u001b[1;31m---------------------------------------------------------------------------\u001b[0m",
      "\u001b[1;31mNameError\u001b[0m                                 Traceback (most recent call last)",
      "Input \u001b[1;32mIn [22]\u001b[0m, in \u001b[0;36m<cell line: 1>\u001b[1;34m()\u001b[0m\n\u001b[1;32m----> 1\u001b[0m inception \u001b[38;5;241m=\u001b[39m \u001b[43mtrain_model\u001b[49m\u001b[43m(\u001b[49m\u001b[43mpath\u001b[49m\u001b[43m,\u001b[49m\u001b[43m \u001b[49m\u001b[43mx_train\u001b[49m\u001b[43m,\u001b[49m\u001b[43m \u001b[49m\u001b[43my_train\u001b[49m\u001b[43m,\u001b[49m\n\u001b[0;32m      2\u001b[0m \u001b[43m                        \u001b[49m\u001b[43mx_val\u001b[49m\u001b[43m,\u001b[49m\u001b[43m \u001b[49m\u001b[43my_val\u001b[49m\u001b[43m,\u001b[49m\u001b[43m \u001b[49m\u001b[43mmodel_name\u001b[49m\u001b[43m \u001b[49m\u001b[38;5;241;43m=\u001b[39;49m\u001b[43m \u001b[49m\u001b[38;5;124;43m\"\u001b[39;49m\u001b[38;5;124;43minceptionv3\u001b[39;49m\u001b[38;5;124;43m\"\u001b[39;49m\u001b[43m,\u001b[49m\n\u001b[0;32m      3\u001b[0m \u001b[43m                        \u001b[49m\u001b[43mepochs\u001b[49m\u001b[43m \u001b[49m\u001b[38;5;241;43m=\u001b[39;49m\u001b[43m \u001b[49m\u001b[38;5;241;43m30\u001b[39;49m\u001b[43m,\u001b[49m\u001b[43m \u001b[49m\u001b[43minput_shape\u001b[49m\u001b[43m \u001b[49m\u001b[38;5;241;43m=\u001b[39;49m\u001b[43m \u001b[49m\u001b[43m(\u001b[49m\u001b[43mimage_size\u001b[49m\u001b[43m,\u001b[49m\u001b[43mimage_size\u001b[49m\u001b[43m,\u001b[49m\u001b[38;5;241;43m3\u001b[39;49m\u001b[43m)\u001b[49m\u001b[43m,\u001b[49m\n\u001b[0;32m      4\u001b[0m \u001b[43m                        \u001b[49m\u001b[43mclasses\u001b[49m\u001b[43m \u001b[49m\u001b[38;5;241;43m=\u001b[39;49m\u001b[43m \u001b[49m\u001b[38;5;28;43mlen\u001b[39;49m\u001b[43m(\u001b[49m\u001b[43mclasses\u001b[49m\u001b[43m)\u001b[49m\u001b[43m,\u001b[49m\n\u001b[0;32m      5\u001b[0m \u001b[43m                       \u001b[49m\u001b[43mcallbacks\u001b[49m\u001b[43m \u001b[49m\u001b[38;5;241;43m=\u001b[39;49m\u001b[43m \u001b[49m\u001b[43mcallbacks\u001b[49m\u001b[43m)\u001b[49m\n",
      "Input \u001b[1;32mIn [19]\u001b[0m, in \u001b[0;36mtrain_model\u001b[1;34m(path, train_images, train_labels, test_images, test_labels, model_name, epochs, input_shape, classes, batch_size, classifier_activation, callbacks)\u001b[0m\n\u001b[0;32m     36\u001b[0m losses \u001b[38;5;241m=\u001b[39m pd\u001b[38;5;241m.\u001b[39mDataFrame(model\u001b[38;5;241m.\u001b[39mhistory\u001b[38;5;241m.\u001b[39mhistory)\n\u001b[0;32m     37\u001b[0m losses[[\u001b[38;5;124m'\u001b[39m\u001b[38;5;124mloss\u001b[39m\u001b[38;5;124m'\u001b[39m,\u001b[38;5;124m'\u001b[39m\u001b[38;5;124mval_loss\u001b[39m\u001b[38;5;124m'\u001b[39m]]\u001b[38;5;241m.\u001b[39mplot()\n\u001b[1;32m---> 39\u001b[0m \u001b[43mlossese\u001b[49m[[\u001b[38;5;124m'\u001b[39m\u001b[38;5;124maccuracy\u001b[39m\u001b[38;5;124m'\u001b[39m, \u001b[38;5;124m'\u001b[39m\u001b[38;5;124mval_accuracy\u001b[39m\u001b[38;5;124m'\u001b[39m]]\u001b[38;5;241m.\u001b[39mplot()\n\u001b[0;32m     43\u001b[0m save_model \u001b[38;5;241m=\u001b[39m path \u001b[38;5;241m+\u001b[39m model_name \u001b[38;5;241m+\u001b[39m \u001b[38;5;124m'\u001b[39m\u001b[38;5;124m.h5\u001b[39m\u001b[38;5;124m'\u001b[39m\n\u001b[0;32m     44\u001b[0m model\u001b[38;5;241m.\u001b[39msave(save_model)\n",
      "\u001b[1;31mNameError\u001b[0m: name 'lossese' is not defined"
     ]
    },
    {
     "data": {
      "image/png": "[encoded data removed]",
      "text/plain": [
       "<Figure size 432x288 with 1 Axes>"
      ]
     },
     "metadata": {
      "needs_background": "light"
     },
     "output_type": "display_data"
    }
   ],
   "source": [
    "inception = train_model(path, x_train, y_train,\n",
    "                        x_val, y_val, model_name = \"inceptionv3\",\n",
    "                        epochs = 30, input_shape = (image_size,image_size,3),\n",
    "                        classes = len(classes),\n",
    "                       callbacks = callbacks)"
   ]
  },
  {
   "cell_type": "code",
   "execution_count": 27,
   "id": "b7aed61a",
   "metadata": {
    "scrolled": true
   },
   "outputs": [
    {
     "name": "stdout",
     "output_type": "stream",
     "text": [
      "Epoch 1/30\n",
      "100/100 [==============================] - 294s 3s/step - loss: 0.6990 - accuracy: 0.7425 - val_loss: 2.0946 - val_accuracy: 0.4096 - lr: 0.0010\n",
      "Epoch 2/30\n",
      "100/100 [==============================] - 284s 3s/step - loss: 0.4911 - accuracy: 0.8275 - val_loss: 2.8326 - val_accuracy: 0.1642 - lr: 0.0010\n",
      "Epoch 3/30\n",
      "100/100 [==============================] - 283s 3s/step - loss: 0.4997 - accuracy: 0.8248 - val_loss: 1.5985 - val_accuracy: 0.4461 - lr: 0.0010\n",
      "Epoch 4/30\n",
      "100/100 [==============================] - 282s 3s/step - loss: 0.4100 - accuracy: 0.8487 - val_loss: 3.5865 - val_accuracy: 0.4959 - lr: 0.0010\n",
      "Epoch 5/30\n",
      "100/100 [==============================] - ETA: 0s - loss: 0.4113 - accuracy: 0.8537 \n",
      "Epoch 5: ReduceLROnPlateau reducing learning rate to 0.0003000000142492354.\n",
      "100/100 [==============================] - 1745s 18s/step - loss: 0.4113 - accuracy: 0.8537 - val_loss: 1.9968 - val_accuracy: 0.6119 - lr: 0.0010\n",
      "Epoch 6/30\n",
      "100/100 [==============================] - 274s 3s/step - loss: 0.3043 - accuracy: 0.8961 - val_loss: 0.3371 - val_accuracy: 0.8823 - lr: 3.0000e-04\n",
      "Epoch 7/30\n",
      "100/100 [==============================] - 280s 3s/step - loss: 0.3613 - accuracy: 0.8737 - val_loss: 0.5480 - val_accuracy: 0.7695 - lr: 3.0000e-04\n",
      "Epoch 8/30\n",
      "100/100 [==============================] - ETA: 0s - loss: 0.3136 - accuracy: 0.9036\n",
      "Epoch 8: ReduceLROnPlateau reducing learning rate to 9.000000427477062e-05.\n",
      "100/100 [==============================] - 316s 3s/step - loss: 0.3136 - accuracy: 0.9036 - val_loss: 0.5871 - val_accuracy: 0.7363 - lr: 3.0000e-04\n",
      "Epoch 9/30\n",
      "100/100 [==============================] - 326s 3s/step - loss: 0.2706 - accuracy: 0.9075 - val_loss: 0.2286 - val_accuracy: 0.9270 - lr: 9.0000e-05\n",
      "Epoch 10/30\n",
      "100/100 [==============================] - 297s 3s/step - loss: 0.2318 - accuracy: 0.9262 - val_loss: 0.2351 - val_accuracy: 0.9254 - lr: 9.0000e-05\n",
      "Epoch 11/30\n",
      "100/100 [==============================] - ETA: 0s - loss: 0.2236 - accuracy: 0.9199\n",
      "Epoch 11: ReduceLROnPlateau reducing learning rate to 2.700000040931627e-05.\n",
      "100/100 [==============================] - 282s 3s/step - loss: 0.2236 - accuracy: 0.9199 - val_loss: 0.2877 - val_accuracy: 0.8955 - lr: 9.0000e-05\n",
      "Epoch 12/30\n",
      "100/100 [==============================] - 276s 3s/step - loss: 0.2447 - accuracy: 0.9212 - val_loss: 0.2107 - val_accuracy: 0.9303 - lr: 2.7000e-05\n",
      "Epoch 13/30\n",
      "100/100 [==============================] - 279s 3s/step - loss: 0.2190 - accuracy: 0.9262 - val_loss: 0.1870 - val_accuracy: 0.9337 - lr: 2.7000e-05\n",
      "Epoch 14/30\n",
      "100/100 [==============================] - 297s 3s/step - loss: 0.1688 - accuracy: 0.9337 - val_loss: 0.1972 - val_accuracy: 0.9337 - lr: 2.7000e-05\n",
      "Epoch 15/30\n",
      "100/100 [==============================] - ETA: 0s - loss: 0.2090 - accuracy: 0.9212\n",
      "Epoch 15: ReduceLROnPlateau reducing learning rate to 8.100000013655517e-06.\n",
      "100/100 [==============================] - 295s 3s/step - loss: 0.2090 - accuracy: 0.9212 - val_loss: 0.1978 - val_accuracy: 0.9453 - lr: 2.7000e-05\n",
      "Epoch 16/30\n",
      "100/100 [==============================] - 300s 3s/step - loss: 0.2016 - accuracy: 0.9312 - val_loss: 0.1773 - val_accuracy: 0.9486 - lr: 8.1000e-06\n",
      "Epoch 17/30\n",
      "100/100 [==============================] - 308s 3s/step - loss: 0.1632 - accuracy: 0.9488 - val_loss: 0.1765 - val_accuracy: 0.9386 - lr: 8.1000e-06\n",
      "Epoch 18/30\n",
      "100/100 [==============================] - 304s 3s/step - loss: 0.1738 - accuracy: 0.9350 - val_loss: 0.1853 - val_accuracy: 0.9287 - lr: 8.1000e-06\n",
      "Epoch 19/30\n",
      "100/100 [==============================] - ETA: 0s - loss: 0.1893 - accuracy: 0.9362\n",
      "Epoch 19: ReduceLROnPlateau reducing learning rate to 2.429999949526973e-06.\n",
      "100/100 [==============================] - 306s 3s/step - loss: 0.1893 - accuracy: 0.9362 - val_loss: 0.1805 - val_accuracy: 0.9370 - lr: 8.1000e-06\n",
      "Epoch 20/30\n",
      "100/100 [==============================] - 299s 3s/step - loss: 0.1923 - accuracy: 0.9350 - val_loss: 0.1724 - val_accuracy: 0.9403 - lr: 2.4300e-06\n",
      "Epoch 21/30\n",
      "100/100 [==============================] - 299s 3s/step - loss: 0.1895 - accuracy: 0.9362 - val_loss: 0.1728 - val_accuracy: 0.9386 - lr: 2.4300e-06\n",
      "Epoch 22/30\n",
      "100/100 [==============================] - 307s 3s/step - loss: 0.1596 - accuracy: 0.9387 - val_loss: 0.1721 - val_accuracy: 0.9403 - lr: 2.4300e-06\n",
      "Epoch 23/30\n",
      "100/100 [==============================] - 293s 3s/step - loss: 0.1590 - accuracy: 0.9400 - val_loss: 0.1701 - val_accuracy: 0.9370 - lr: 2.4300e-06\n",
      "Epoch 24/30\n",
      "100/100 [==============================] - 278s 3s/step - loss: 0.1777 - accuracy: 0.9449 - val_loss: 0.1701 - val_accuracy: 0.9370 - lr: 2.4300e-06\n",
      "Epoch 25/30\n",
      "100/100 [==============================] - ETA: 0s - loss: 0.1767 - accuracy: 0.9388\n",
      "Epoch 25: ReduceLROnPlateau reducing learning rate to 1e-06.\n",
      "100/100 [==============================] - 276s 3s/step - loss: 0.1767 - accuracy: 0.9388 - val_loss: 0.1704 - val_accuracy: 0.9370 - lr: 2.4300e-06\n",
      "Epoch 26/30\n",
      "100/100 [==============================] - 277s 3s/step - loss: 0.1802 - accuracy: 0.9337 - val_loss: 0.1713 - val_accuracy: 0.9386 - lr: 1.0000e-06\n",
      "Epoch 27/30\n",
      "100/100 [==============================] - 290s 3s/step - loss: 0.1826 - accuracy: 0.9324 - val_loss: 0.1711 - val_accuracy: 0.9386 - lr: 1.0000e-06\n",
      "Epoch 28/30\n",
      "100/100 [==============================] - 293s 3s/step - loss: 0.1918 - accuracy: 0.9287 - val_loss: 0.1712 - val_accuracy: 0.9370 - lr: 1.0000e-06\n",
      "Epoch 29/30\n",
      "100/100 [==============================] - 306s 3s/step - loss: 0.1693 - accuracy: 0.9500 - val_loss: 0.1715 - val_accuracy: 0.9353 - lr: 1.0000e-06\n"
     ]
    },
    {
     "data": {
      "image/png": "[encoded data removed]",
      "text/plain": [
       "<Figure size 432x288 with 1 Axes>"
      ]
     },
     "metadata": {
      "needs_background": "light"
     },
     "output_type": "display_data"
    },
    {
     "data": {
      "image/png": "[encoded data removed]",
      "text/plain": [
       "<Figure size 432x288 with 1 Axes>"
      ]
     },
     "metadata": {
      "needs_background": "light"
     },
     "output_type": "display_data"
    }
   ],
   "source": [
    "resnet = train_model(path, x_train, y_train,\n",
    "                     x_val, y_val, model_name=\"resnet50v2\",\n",
    "                     epochs=30, input_shape = (image_size,image_size,3),\n",
    "                     classes = len(classes),\n",
    "                     callbacks = callbacks)"
   ]
  },
  {
   "cell_type": "code",
   "execution_count": 10,
   "id": "d0d5f88a",
   "metadata": {
    "scrolled": true
   },
   "outputs": [
    {
     "name": "stdout",
     "output_type": "stream",
     "text": [
      "Epoch 1/30\n",
      "100/100 [==============================] - 182s 2s/step - loss: 0.8065 - accuracy: 0.6913 - val_loss: 2.5938 - val_accuracy: 0.1095 - lr: 0.0010\n",
      "Epoch 2/30\n",
      "100/100 [==============================] - 182s 2s/step - loss: 0.5592 - accuracy: 0.7825 - val_loss: 4.8528 - val_accuracy: 0.4461 - lr: 0.0010\n",
      "Epoch 3/30\n",
      "100/100 [==============================] - ETA: 0s - loss: 0.6347 - accuracy: 0.7547\n",
      "Epoch 3: ReduceLROnPlateau reducing learning rate to 0.0003000000142492354.\n",
      "100/100 [==============================] - 170s 2s/step - loss: 0.6347 - accuracy: 0.7547 - val_loss: 3.0851 - val_accuracy: 0.4461 - lr: 0.0010\n",
      "Epoch 4/30\n",
      "100/100 [==============================] - 179s 2s/step - loss: 0.3804 - accuracy: 0.8650 - val_loss: 2.5339 - val_accuracy: 0.4461 - lr: 3.0000e-04\n",
      "Epoch 5/30\n",
      "100/100 [==============================] - 182s 2s/step - loss: 0.3670 - accuracy: 0.8562 - val_loss: 3.3371 - val_accuracy: 0.3068 - lr: 3.0000e-04\n",
      "Epoch 6/30\n",
      "100/100 [==============================] - ETA: 0s - loss: 0.3084 - accuracy: 0.8836\n",
      "Epoch 6: ReduceLROnPlateau reducing learning rate to 9.000000427477062e-05.\n",
      "100/100 [==============================] - 169s 2s/step - loss: 0.3084 - accuracy: 0.8836 - val_loss: 2.9808 - val_accuracy: 0.1078 - lr: 3.0000e-04\n",
      "Epoch 7/30\n",
      "100/100 [==============================] - 181s 2s/step - loss: 0.2229 - accuracy: 0.9187 - val_loss: 1.7722 - val_accuracy: 0.5290 - lr: 9.0000e-05\n",
      "Epoch 8/30\n",
      "100/100 [==============================] - 178s 2s/step - loss: 0.2851 - accuracy: 0.9011 - val_loss: 0.2575 - val_accuracy: 0.9171 - lr: 9.0000e-05\n",
      "Epoch 9/30\n",
      "100/100 [==============================] - 176s 2s/step - loss: 0.2208 - accuracy: 0.9250 - val_loss: 0.1999 - val_accuracy: 0.9337 - lr: 9.0000e-05\n",
      "Epoch 10/30\n",
      "100/100 [==============================] - 180s 2s/step - loss: 0.2004 - accuracy: 0.9275 - val_loss: 0.2149 - val_accuracy: 0.9254 - lr: 9.0000e-05\n",
      "Epoch 11/30\n",
      "100/100 [==============================] - 190s 2s/step - loss: 0.1965 - accuracy: 0.9387 - val_loss: 0.1822 - val_accuracy: 0.9303 - lr: 9.0000e-05\n",
      "Epoch 12/30\n",
      "100/100 [==============================] - 182s 2s/step - loss: 0.1590 - accuracy: 0.9463 - val_loss: 0.1909 - val_accuracy: 0.9353 - lr: 9.0000e-05\n",
      "Epoch 13/30\n",
      "100/100 [==============================] - ETA: 0s - loss: 0.1703 - accuracy: 0.9438\n",
      "Epoch 13: ReduceLROnPlateau reducing learning rate to 2.700000040931627e-05.\n",
      "100/100 [==============================] - 191s 2s/step - loss: 0.1703 - accuracy: 0.9438 - val_loss: 0.1861 - val_accuracy: 0.9270 - lr: 9.0000e-05\n",
      "Epoch 14/30\n",
      "100/100 [==============================] - 208s 2s/step - loss: 0.1580 - accuracy: 0.9462 - val_loss: 0.1711 - val_accuracy: 0.9403 - lr: 2.7000e-05\n",
      "Epoch 15/30\n",
      "100/100 [==============================] - 183s 2s/step - loss: 0.1585 - accuracy: 0.9500 - val_loss: 0.1692 - val_accuracy: 0.9370 - lr: 2.7000e-05\n",
      "Epoch 16/30\n",
      "100/100 [==============================] - 184s 2s/step - loss: 0.1342 - accuracy: 0.9524 - val_loss: 0.1868 - val_accuracy: 0.9320 - lr: 2.7000e-05\n",
      "Epoch 17/30\n",
      "100/100 [==============================] - ETA: 0s - loss: 0.1359 - accuracy: 0.9588\n",
      "Epoch 17: ReduceLROnPlateau reducing learning rate to 8.100000013655517e-06.\n",
      "100/100 [==============================] - 183s 2s/step - loss: 0.1359 - accuracy: 0.9588 - val_loss: 0.1730 - val_accuracy: 0.9403 - lr: 2.7000e-05\n",
      "Epoch 18/30\n",
      "100/100 [==============================] - 170s 2s/step - loss: 0.1610 - accuracy: 0.9500 - val_loss: 0.1784 - val_accuracy: 0.9353 - lr: 8.1000e-06\n",
      "Epoch 19/30\n",
      "100/100 [==============================] - ETA: 0s - loss: 0.1300 - accuracy: 0.9549\n",
      "Epoch 19: ReduceLROnPlateau reducing learning rate to 2.429999949526973e-06.\n",
      "100/100 [==============================] - 161s 2s/step - loss: 0.1300 - accuracy: 0.9549 - val_loss: 0.1749 - val_accuracy: 0.9386 - lr: 8.1000e-06\n",
      "Epoch 20/30\n",
      "100/100 [==============================] - 161s 2s/step - loss: 0.1071 - accuracy: 0.9613 - val_loss: 0.1747 - val_accuracy: 0.9403 - lr: 2.4300e-06\n"
     ]
    },
    {
     "data": {
      "image/png": "[encoded data removed]",
      "text/plain": [
       "<Figure size 432x288 with 1 Axes>"
      ]
     },
     "metadata": {
      "needs_background": "light"
     },
     "output_type": "display_data"
    },
    {
     "data": {
      "image/png": "[encoded data removed]",
      "text/plain": [
       "<Figure size 432x288 with 1 Axes>"
      ]
     },
     "metadata": {
      "needs_background": "light"
     },
     "output_type": "display_data"
    }
   ],
   "source": [
    "efficientnet = train_model(path, x_train, y_train,\n",
    "                     x_val, y_val, model_name=\"efficientnetb0\",\n",
    "                     epochs=30, input_shape = (image_size,image_size,3),\n",
    "                     classes = len(classes),\n",
    "                     callbacks = callbacks)"
   ]
  },
  {
   "cell_type": "code",
   "execution_count": 6,
   "id": "872233d5",
   "metadata": {},
   "outputs": [],
   "source": [
    "def ensemble(x, weights, models): \n",
    "    '''\n",
    "    returns a weighted average of predictions made by the models\\n\n",
    "    x -> input image \\n\n",
    "    weights -> a list of weights \\n\n",
    "    models -> a list of models\\n    \n",
    "    '''      \n",
    "    outputs = []    \n",
    "    for model in models:                \n",
    "        outputs.append(list(model.predict(x)[0]))                \n",
    "    \n",
    "    outputs = np.array(outputs)\n",
    "    avg = np.average(a=outputs,axis=0,weights=weights)\n",
    "    return avg\n",
    "\n",
    "\n",
    "def equal(pred, label):\n",
    "  pred_id = np.argmax(pred)\n",
    "  if (pred_id == label):\n",
    "    return True\n",
    "  else:\n",
    "    return False\n",
    "\n",
    "\n",
    "def accuracy(predicted_values, y_truths):\n",
    "  '''\n",
    "  returns accuracy\\n\n",
    "  predicted_values = a numpy array containing the predictions\\n\n",
    "  y_truths = a numpy array containing the truth values\\n  \n",
    "  '''\n",
    "  total = len(y_truths)\n",
    "  correct = 0\n",
    "  for i in range(len(y_truths)):\n",
    "    if equal(predicted_values[i],y_truths[i]):\n",
    "      correct += 1\n",
    "  acc = correct / total\n",
    "  return acc\n",
    "\n",
    "\n",
    "def generate_weights(x_val, y_val, models):\n",
    "    '''\n",
    "    returns a list of weights\n",
    "    '''\n",
    "    accuracy = []\n",
    "    weights = np.full((1,len(models)), 100.0)\n",
    "    for model in models:\n",
    "      acc = model.evaluate(x_val, y_val)[1]\n",
    "      accuracy.append(100*acc)\n",
    "    weights = weights - accuracy\n",
    "    weights = weights**2\n",
    "    sum = np.sum(weights)\n",
    "    weights = weights/sum\n",
    "    weights = 1/weights\n",
    "    weights = weights**2\n",
    "    sum = np.sum(weights)\n",
    "    weights = weights/sum\n",
    "    return weights"
   ]
  },
  {
   "cell_type": "code",
   "execution_count": 8,
   "id": "98ae13d2",
   "metadata": {},
   "outputs": [
    {
     "name": "stdout",
     "output_type": "stream",
     "text": [
      "10/10 [==============================] - 11s 961ms/step - loss: 0.1871 - accuracy: 0.9342\n",
      "10/10 [==============================] - 17s 2s/step - loss: 0.1800 - accuracy: 0.9375\n",
      "10/10 [==============================] - 13s 1s/step - loss: 0.1946 - accuracy: 0.9243\n",
      "10/10 [==============================] - 21s 2s/step - loss: 0.1940 - accuracy: 0.9375\n",
      "10/10 [==============================] - 39s 4s/step - loss: 0.3719 - accuracy: 0.8914\n",
      "Weights:  [0.2402609  0.29497713 0.13736978 0.29497713 0.03241507]\n",
      "\n",
      " Models Accuracy on test set (inception, resnet, efficient, xception, densenet) :  [93.42105263157895, 93.75, 92.43421052631578, 93.75, 89.14473684210526]\n",
      "Ensemble Accuracy:  0.944078947368421\n",
      "The classification report: \n",
      "               precision    recall  f1-score   support\n",
      "\n",
      "  COVID19 (0)       0.92      0.97      0.94        34\n",
      "   NORMAL (1)       0.95      0.93      0.94       135\n",
      "PNEUMONIA (2)       0.94      0.96      0.95       135\n",
      "\n",
      "     accuracy                           0.94       304\n",
      "    macro avg       0.94      0.95      0.94       304\n",
      " weighted avg       0.94      0.94      0.94       304\n",
      "\n",
      "Confusion Matrix: \n",
      "[[ 33   0   1]\n",
      " [  3 125   7]\n",
      " [  0   6 129]]\n"
     ]
    }
   ],
   "source": [
    "from sklearn.metrics import classification_report, confusion_matrix, f1_score, accuracy_score\n",
    "\n",
    "inception_path = 'New_Model/inceptionv3.h5'\n",
    "resnet_path = 'New_Model/resnet50v2.h5'\n",
    "efficient_path = 'New_Model/efficientnetb0.h5'\n",
    "xception_path = 'New_Model/xception.h5'\n",
    "densenet_path = 'New_Model/densenet201.h5'\n",
    "\n",
    "inception_model = tf.keras.models.load_model(inception_path)\n",
    "resnet_model = tf.keras.models.load_model(resnet_path)\n",
    "efficient_model = tf.keras.models.load_model(efficient_path)\n",
    "xception_model = tf.keras.models.load_model(xception_path)\n",
    "densenet_model = tf.keras.models.load_model(densenet_path)\n",
    "\n",
    "models = [inception_model, resnet_model, efficient_model, xception_model, densenet_model]\n",
    "\n",
    "w = generate_weights(x_test,y_test,models)[0] #generating weights\n",
    "print(\"Weights: \", w)\n",
    "\n",
    "predictions = []\n",
    "accs = []\n",
    "\n",
    "for model in models:\n",
    "    y_preds = (np.array(model.predict(x_test)))\n",
    "    y_preds = np.argmax(y_preds, axis = 1)\n",
    "    \n",
    "    acc = accuracy_score(y_test, y_preds)\n",
    "    accs.append(100 * acc)\n",
    "    \n",
    "print('\\n Models Accuracy on test set (inception, resnet, efficient, xception, densenet) : ', accs)\n",
    "\n",
    "    \n",
    "for i in range(len(x_test)):\n",
    "  pred = ensemble(x_test[i].reshape(-1,image_size,image_size,3),w,models)\n",
    "  predictions.append(pred)\n",
    "\n",
    "print(\"Ensemble Accuracy: \",accuracy(predictions,y_test))\n",
    "\n",
    "y_pred = np.argmax(np.array(predictions), axis=1)\n",
    "\n",
    "clf_report = classification_report(y_pred=y_pred, y_true=y_test, target_names = ['COVID19 (0)', 'NORMAL (1)', 'PNEUMONIA (2)'])\n",
    "\n",
    "print(\"The classification report: \")\n",
    "print(clf_report)\n",
    "\n",
    "cf_matrix = confusion_matrix(y_pred=y_pred, y_true=y_test)\n",
    "\n",
    "print(\"Confusion Matrix: \")\n",
    "print(cf_matrix)"
   ]
  },
  {
   "cell_type": "code",
   "execution_count": 13,
   "id": "8291d78c",
   "metadata": {},
   "outputs": [
    {
     "data": {
      "text/plain": [
       "<AxesSubplot:>"
      ]
     },
     "execution_count": 13,
     "metadata": {},
     "output_type": "execute_result"
    },
    {
     "data": {
      "image/png": "[encoded data removed]",
      "text/plain": [
       "<Figure size 432x288 with 2 Axes>"
      ]
     },
     "metadata": {
      "needs_background": "light"
     },
     "output_type": "display_data"
    }
   ],
   "source": [
    "sns.heatmap(cf_matrix, annot = True, cmap='Blues', fmt='g')"
   ]
  },
  {
   "cell_type": "code",
   "execution_count": 10,
   "id": "63854377",
   "metadata": {},
   "outputs": [
    {
     "name": "stdout",
     "output_type": "stream",
     "text": [
      "Accuracy of covid:  98.68421052631578\n",
      "Sensitivity of covid:  97.05882352941177\n",
      "Specificity of covid:  98.88888888888889\n",
      "Precision of covid :  91.66666666666666\n",
      "F1-Score of covid :  94.28571428571428\n"
     ]
    }
   ],
   "source": [
    "total = sum(sum(cf_matrix))\n",
    "\n",
    "accuracy_covid= (cf_matrix[0,0] + cf_matrix[1,1] + cf_matrix[2,2] + cf_matrix[1,2] + cf_matrix[2,1])/total\n",
    "\n",
    "sensitivity_covid = cf_matrix[0,0]/ (cf_matrix[0, 0] + cf_matrix[0,1] + cf_matrix[0, 2])\n",
    "\n",
    "specificity_covid = (cf_matrix[1,1] +cf_matrix[1,2] + cf_matrix[2,1] + cf_matrix[2,2])/(cf_matrix[1,0] + cf_matrix[2,0] + cf_matrix[1,1] +cf_matrix[1,2] + cf_matrix[2,1] + cf_matrix[2,2])\n",
    "\n",
    "precision_covid = (cf_matrix[0, 0])/(cf_matrix[0, 0]+ cf_matrix[1,0] + cf_matrix[2,0])\n",
    "f1score_covid = (2 * sensitivity_covid * precision_covid)/(sensitivity_covid + precision_covid)\n",
    "\n",
    "print(\"Accuracy of covid: \", accuracy_covid *100)\n",
    "print(\"Sensitivity of covid: \", sensitivity_covid * 100)\n",
    "print(\"Specificity of covid: \", specificity_covid* 100)\n",
    "print(\"Precision of covid : \", precision_covid * 100)\n",
    "print(\"F1-Score of covid : \",f1score_covid * 100)"
   ]
  },
  {
   "cell_type": "code",
   "execution_count": 11,
   "id": "b07ad66f",
   "metadata": {},
   "outputs": [
    {
     "name": "stdout",
     "output_type": "stream",
     "text": [
      "Accuracy of normal:  94.73684210526315\n",
      "Sensitivity of normal:  92.5925925925926\n",
      "Specificity of normal :  96.44970414201184\n",
      "Precision of normal :  95.41984732824427\n",
      "F1-Score of normal :  93.98496240601504\n"
     ]
    }
   ],
   "source": [
    "\n",
    "accuracy_normal= (cf_matrix[1, 1] + cf_matrix[0, 0] + cf_matrix[0,2] + cf_matrix[2,0] + cf_matrix[2,2])/total\n",
    "\n",
    "sensitivity_normal = cf_matrix[1,1]/ (cf_matrix[1, 1] + cf_matrix[1, 0] + cf_matrix[1, 2])\n",
    "\n",
    "specificity_normal = (cf_matrix[0, 0] + cf_matrix[0,2] + cf_matrix[2,0] + cf_matrix[2,2])/(cf_matrix[0, 0] + cf_matrix[0,2] + cf_matrix[2,0] + cf_matrix[2,2] + cf_matrix[0,1] + cf_matrix[2,1])\n",
    "\n",
    "precision_normal = (cf_matrix[1, 1])/(cf_matrix[1, 1]+ cf_matrix[0, 1] + cf_matrix[2, 1])\n",
    "\n",
    "f1score_normal = (2 * sensitivity_normal * precision_normal)/(sensitivity_normal + precision_normal)\n",
    "\n",
    "print(\"Accuracy of normal: \", accuracy_normal *100)\n",
    "print(\"Sensitivity of normal: \", sensitivity_normal * 100)\n",
    "print(\"Specificity of normal : \", specificity_normal* 100)\n",
    "print(\"Precision of normal : \", precision_normal * 100)\n",
    "print(\"F1-Score of normal : \",f1score_normal * 100)"
   ]
  },
  {
   "cell_type": "code",
   "execution_count": 12,
   "id": "bdc18872",
   "metadata": {},
   "outputs": [
    {
     "name": "stdout",
     "output_type": "stream",
     "text": [
      "Accuracy of pneumonia:  95.39473684210526\n",
      "Sensitivity of pneumonia:  95.55555555555556\n",
      "Specificity of penumonia:  95.26627218934911\n",
      "Precision of pneumonia :  94.16058394160584\n",
      "F1-Score of pneumonia :  94.8529411764706\n"
     ]
    }
   ],
   "source": [
    "total = sum(sum(cf_matrix))\n",
    "\n",
    "accuracy_pneumonia= (cf_matrix[2,2] + cf_matrix[0,0] + cf_matrix[0,1] + cf_matrix[1,0] + cf_matrix[1,1])/total\n",
    "\n",
    "sensitivity_pneumonia = cf_matrix[2,2]/ (cf_matrix[2,2] + cf_matrix[2,0] + cf_matrix[2,1])\n",
    "\n",
    "specificity_pneumonia = (cf_matrix[0,0] +cf_matrix[0,1] + cf_matrix[1,0] + cf_matrix[1,1])/(cf_matrix[0,0] + cf_matrix[0,1] + cf_matrix[1,0] +cf_matrix[1,1] + cf_matrix[0,2] + cf_matrix[1,2])\n",
    "\n",
    "precision_pneumonia = (cf_matrix[2,2])/(cf_matrix[2,2]+ cf_matrix[0,2] + cf_matrix[1,2])\n",
    "f1score_pneumonia = (2 * sensitivity_pneumonia * precision_pneumonia)/(sensitivity_pneumonia + precision_pneumonia)\n",
    "\n",
    "print(\"Accuracy of pneumonia: \", accuracy_pneumonia *100)\n",
    "print(\"Sensitivity of pneumonia: \", sensitivity_pneumonia * 100)\n",
    "print(\"Specificity of penumonia: \", specificity_pneumonia* 100)\n",
    "print(\"Precision of pneumonia : \", precision_pneumonia * 100)\n",
    "print(\"F1-Score of pneumonia : \",f1score_pneumonia * 100)"
   ]
  },
  {
   "cell_type": "code",
   "execution_count": null,
   "id": "02ba18c7",
   "metadata": {},
   "outputs": [],
   "source": []
  }
 ],
 "metadata": {
  "kernelspec": {
   "display_name": "csd300",
   "language": "python",
   "name": "csd300"
  },
  "language_info": {
   "codemirror_mode": {
    "name": "ipython",
    "version": 3
   },
   "file_extension": ".py",
   "mimetype": "text/x-python",
   "name": "python",
   "nbconvert_exporter": "python",
   "pygments_lexer": "ipython3",
   "version": "3.10.4"
  }
 },
 "nbformat": 4,
 "nbformat_minor": 5
}
